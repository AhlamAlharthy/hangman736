{
 "cells": [
  {
   "cell_type": "code",
   "execution_count": 4,
   "metadata": {},
   "outputs": [],
   "source": [
    "import random"
   ]
  },
  {
   "cell_type": "code",
   "execution_count": 13,
   "metadata": {},
   "outputs": [
    {
     "name": "stdout",
     "output_type": "stream",
     "text": [
      "mango\n",
      "Sorry, {guess} is not in the word. Try again.\n"
     ]
    }
   ],
   "source": [
    "#Iterativly checking if the input is a valid guess\n",
    "word_list = [\"banana\", \"mango\", \"apple\", \"kiwi\", \"orange\"]\n",
    "word = random.choice(word_list)\n",
    "print(word)\n",
    "\n",
    "while True:\n",
    "    guess = input (\"Enter a single letter:\")\n",
    "    if len(guess)== 1 and guess.isalpha():\n",
    "        break\n",
    "    else:\n",
    "        print(\"Invalid letter. Please, enter a single alphabetical character.\")\n",
    "\n",
    "#Checking whether the letter guessed by the user is in the secret word that was randomly chosen by the computer.\n",
    "if guess in word:\n",
    "    print (f\"Good guess! {guess} is in the word.\")\n",
    "else:\n",
    "    print(\"Sorry, {guess} is not in the word. Try again.\")\n"
   ]
  },
  {
   "cell_type": "code",
   "execution_count": 21,
   "metadata": {},
   "outputs": [
    {
     "name": "stdout",
     "output_type": "stream",
     "text": [
      "banana\n",
      "Sorry, {guess} is not in the word. Try again.\n"
     ]
    }
   ],
   "source": [
    "word_list = [\"banana\", \"mango\", \"apple\", \"kiwi\", \"orange\"]\n",
    "word = random.choice(word_list)\n",
    "print(word)\n",
    "\n",
    "\n",
    "#Checking whether the letter guessed by the user is in the secret word that was randomly chosen by the computer.\n",
    "def check_guess(guess):\n",
    "    guess = guess.lower()\n",
    "    if guess in word:\n",
    "        print (f\"Good guess! {guess} is in the word.\")\n",
    "    else:\n",
    "        print(\"Sorry, {guess} is not in the word. Try again.\")\n",
    "\n",
    "\n",
    "#Iterativly checking if the input is a valid guess\n",
    "def ask_for_input():\n",
    "    while True:\n",
    "        guess = input (\"Enter a single letter:\")\n",
    "        if len(guess)== 1 and guess.isalpha():\n",
    "            break\n",
    "        else:\n",
    "            print(\"Invalid letter. Please, enter a single alphabetical character.\")\n",
    "    \n",
    "    check_guess(guess)\n",
    "\n",
    "ask_for_input()\n",
    "\n"
   ]
  }
 ],
 "metadata": {
  "kernelspec": {
   "display_name": "Python 3.9.6 64-bit",
   "language": "python",
   "name": "python3"
  },
  "language_info": {
   "codemirror_mode": {
    "name": "ipython",
    "version": 3
   },
   "file_extension": ".py",
   "mimetype": "text/x-python",
   "name": "python",
   "nbconvert_exporter": "python",
   "pygments_lexer": "ipython3",
   "version": "3.9.6"
  },
  "orig_nbformat": 4,
  "vscode": {
   "interpreter": {
    "hash": "31f2aee4e71d21fbe5cf8b01ff0e069b9275f58929596ceb00d14d90e3e16cd6"
   }
  }
 },
 "nbformat": 4,
 "nbformat_minor": 2
}
