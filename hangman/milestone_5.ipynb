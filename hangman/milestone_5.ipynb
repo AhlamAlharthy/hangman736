{
 "cells": [
  {
   "cell_type": "code",
   "execution_count": 1,
   "metadata": {},
   "outputs": [],
   "source": [
    "import random"
   ]
  },
  {
   "cell_type": "code",
   "execution_count": 32,
   "metadata": {},
   "outputs": [],
   "source": [
    "\n",
    "def play_game(word_list):\n",
    "    num_lives = 5\n",
    "    game = Hangman(word_list, num_lives)\n",
    "    while True:\n",
    "        if num_lives == 0:\n",
    "            print (\"You lost!\")\n",
    "            break\n",
    "        elif game.num_letters > 0:\n",
    "            game.ask_for_input()\n",
    "        else:\n",
    "            print(\"Congratulations. You won the game!\")\n",
    "            break\n",
    "\n",
    "class Hangman:\n",
    "\n",
    "    def __init__(self, word_list, num_lives = 5):\n",
    "        self.word_list = word_list #A list of words\n",
    "        word = random.choice(self.word_list)\n",
    "        self.word = word\n",
    "        self.word_guessed = ''.join([x if x in word else \"_\" for x in word])  #A list of the letters of the word, with _ for each letter not yet guessed\n",
    "        self.num_letters = len(set(word)) #The number of UNIQUE letters in the word that have not been guessed yet\n",
    "        self.num_lives = num_lives #The number of lives the player has at the start of the game\n",
    "        self.list_of_guesses = [] #A list of the guesses that have already been tried\n",
    "        print(self.word)\n",
    "\n",
    "#Checking whether the letter guessed by the user is in the secret word that was randomly chosen by the computer.\n",
    "    def check_guess(self, guess):\n",
    "        guess = guess.lower()\n",
    "        if guess in self.word: #what happens if the guessed letter is in the word\n",
    "            print (f\"Good guess! {guess} is in the word.\")\n",
    "            for i, letter in enumerate(self.word):\n",
    "                if letter == guess:\n",
    "                    self.word_guessed = self.word_guessed[:i] + letter + self.word_guessed[i + 1:]\n",
    "        else: #what happens if the guessed is not in the word\n",
    "            self.num_lives -= 1\n",
    "            print (f\"Sorry, {guess} is not in the word. Try again.\")\n",
    "            print (f\"You have {self.num_lives} lives left.\")\n",
    "\n",
    "#Iterativly checking if the input is a valid guess\n",
    "    def ask_for_input(self):\n",
    "        while True:\n",
    "            guess = input (\"Enter a single letter:\")\n",
    "            if len(guess) != 1 or not guess.isalpha():\n",
    "                print(\"Invalid letter. Please, enter a single alphabetical character\")\n",
    "            elif guess in self.list_of_guesses:\n",
    "                 print (\"You already tried that letter! Try again\")\n",
    "            else:\n",
    "                self.check_guess(guess)\n",
    "                self.list_of_guesses.append(guess)\n",
    "                break \n",
    "\n",
    "        \n",
    "\n",
    "\n"
   ]
  },
  {
   "cell_type": "code",
   "execution_count": null,
   "metadata": {},
   "outputs": [],
   "source": [
    "play_game([\"banana\", \"apple\", \"mango\"])"
   ]
  },
  {
   "cell_type": "code",
   "execution_count": null,
   "metadata": {},
   "outputs": [],
   "source": []
  }
 ],
 "metadata": {
  "kernelspec": {
   "display_name": "Python 3.9.6 64-bit",
   "language": "python",
   "name": "python3"
  },
  "language_info": {
   "codemirror_mode": {
    "name": "ipython",
    "version": 3
   },
   "file_extension": ".py",
   "mimetype": "text/x-python",
   "name": "python",
   "nbconvert_exporter": "python",
   "pygments_lexer": "ipython3",
   "version": "3.9.6"
  },
  "orig_nbformat": 4,
  "vscode": {
   "interpreter": {
    "hash": "31f2aee4e71d21fbe5cf8b01ff0e069b9275f58929596ceb00d14d90e3e16cd6"
   }
  }
 },
 "nbformat": 4,
 "nbformat_minor": 2
}
